{
 "cells": [
  {
   "cell_type": "code",
   "execution_count": null,
   "metadata": {
    "collapsed": false
   },
   "outputs": [],
   "source": [
    "%reload_ext autoreload\n",
    "%autoreload 2"
   ]
  },
  {
   "cell_type": "code",
   "execution_count": null,
   "metadata": {
    "collapsed": true
   },
   "outputs": [],
   "source": [
    "import pandas as pd\n",
    "import numpy as np\n",
    "import matplotlib.pyplot as plt\n",
    "%matplotlib inline \n",
    "\n",
    "from ipywidgets.widgets import interact, IntSlider, FloatSlider\n",
    "from IPython.display import display\n",
    "\n",
    "from KSS_curve import * \n",
    "from kss import *"
   ]
  },
  {
   "cell_type": "markdown",
   "metadata": {},
   "source": [
    "# Pfade zu den HDF5-Daten"
   ]
  },
  {
   "cell_type": "code",
   "execution_count": null,
   "metadata": {
    "collapsed": true
   },
   "outputs": [],
   "source": [
    "base_path = '/Users/spede/Desktop/KSS/'\n",
    "cm_path = os.path.join(base_path, 'raw_cm.hdf5')\n",
    "dmvt_path = os.path.join(base_path, 'raw_dmvt.hdf5')"
   ]
  },
  {
   "cell_type": "markdown",
   "metadata": {},
   "source": [
    "# Kurvenverläufe für eine Leitgüte von 12400"
   ]
  },
  {
   "cell_type": "code",
   "execution_count": null,
   "metadata": {
    "collapsed": true
   },
   "outputs": [],
   "source": [
    "cm = CurveManager.load(cm_path)\n",
    "key = 'DST_Temp_vor_STB'\n",
    "indexNoZeros = cm.index[cm.index['DST_Temp_vor_STB'] != 0]\n",
    "selection = indexNoZeros.query('DWLD_LEITGUETE==12400')\n",
    "curves = cm.load_curves(key, selection)\n",
    "#all_data = [curve for curve in curves]"
   ]
  },
  {
   "cell_type": "markdown",
   "metadata": {},
   "source": [
    "# Zufällig gewählte Kurvenverläufe"
   ]
  },
  {
   "cell_type": "code",
   "execution_count": null,
   "metadata": {
    "collapsed": false
   },
   "outputs": [],
   "source": [
    "cm.plot_random(amount=10, dmvt_id='DST_Temp_vor_STB')\n",
    "_=plt.title('Zufällig gewählte Kurvenverläufe')"
   ]
  },
  {
   "cell_type": "markdown",
   "metadata": {},
   "source": [
    "# Bestimmen von Start und Ende"
   ]
  },
  {
   "cell_type": "code",
   "execution_count": null,
   "metadata": {
    "collapsed": false
   },
   "outputs": [],
   "source": [
    "@interact(data_idx=IntSlider(min=1, max=len(all_data), step=1, value=1))\n",
    "def plot_start_end(data_idx):\n",
    "    \n",
    "    # Filterlänge des Tiefpasses (Mittelwertbilder/Integration) und des Hochpasses (Differenzierung)\n",
    "    filt_len = 3\n",
    "    \n",
    "    # Fensterlänge zur Bestimmung der Streuung\n",
    "    window_size = 10\n",
    "    \n",
    "    # Kurvenverlauf zu vorliegendem Index\n",
    "    data = all_data[data_idx][1]\n",
    "\n",
    "    # Glätten des Kurvenverlaufs\n",
    "    data_smoothed = smooth_data(data, filt_len)\n",
    "    \n",
    "    # Berechnen der Streuung pro Fensterlänge\n",
    "    data_std = windowed_std(data, window_size)\n",
    "    \n",
    "    # Differenzierung der Streuung und Unterteilung der Bereiche (Startbereich/Endbereich)\n",
    "    diff_start, diff_end = get_diff(data_std, window_size, filt_len)\n",
    "    \n",
    "    # Start- und Endstelle bestimmen\n",
    "    start = int((np.argmin(diff_start) + filt_len - 1) * window_size) + filt_len - 1\n",
    "    end = int((np.argmax(diff_end) + 150/window_size) * window_size) + filt_len - 1\n",
    "\n",
    "    # Plots\n",
    "    plt.figure(figsize=(20,3))\n",
    "    ax_1 = plt.subplot(121)\n",
    "    ax_1.plot(data)\n",
    "    ax_1.plot(start, data[start], 'ro')\n",
    "    ax_1.plot(end, data[end], 'go')\n",
    "    ax_1.set_title('Kurvenverlauf mit Start- und Endpunkten')\n",
    "    ax_1.set_xlabel('Segment/n')\n",
    "    ax_1.set_ylabel('DST_Temp_vor_STB')\n",
    "\n",
    "    ax_2 = plt.subplot(122)\n",
    "    ax_2.plot(data_std)\n",
    "    ax_2.plot([150/window_size, 150/window_size], [0, max(data_std)], 'r')\n",
    "    ax_2.set_title('Gefensterte Streuung')\n",
    "    ax_2.set_xlabel('Segment/(n*Fensterlänge)')\n",
    "    ax_2.set_ylabel('Streuung')\n",
    "    \n",
    "    plt.figure(figsize=(20,3))\n",
    "    ax_1 = plt.subplot(121)\n",
    "    ax_1.plot(diff_start)\n",
    "    ax_1.set_title('1. Ableitung der Streuung des Startbereichs')\n",
    "    ax_1.set_xlabel('Segment/(n*Fensterlänge)')\n",
    "    ax_1.set_ylabel('1. Ableitung')\n",
    "    \n",
    "\n",
    "    ax_2 = plt.subplot(122)\n",
    "    ax_2.plot(diff_end)\n",
    "    ax_2.set_title('1. Ableitung der Streuung des Endbereichs')\n",
    "    ax_2.set_xlabel('Segment/(n*Fensterlänge)')\n",
    "    ax_2.set_ylabel('1. Ableitung')"
   ]
  },
  {
   "cell_type": "markdown",
   "metadata": {},
   "source": [
    "# Histogramm der Messwerte im Start- bis Endbereich"
   ]
  },
  {
   "cell_type": "code",
   "execution_count": null,
   "metadata": {
    "collapsed": false
   },
   "outputs": [],
   "source": [
    "all_cropped_data = []\n",
    "\n",
    "for _, data in all_data:\n",
    "    start, end = get_start_end(data, 10, 3)\n",
    "    all_cropped_data += list(data[start:end])"
   ]
  },
  {
   "cell_type": "code",
   "execution_count": null,
   "metadata": {
    "collapsed": false
   },
   "outputs": [],
   "source": [
    "plt.figure(figsize=(15,5))\n",
    "plt.hist(all_cropped_data, bins=100, normed=True)\n",
    "plt.title('Histogramm der Messwerte im Start- bis Endbereich')\n",
    "plt.xlabel('DST_Temp_vor_STB')\n",
    "_=plt.ylabel('relatie Häufigkeit')"
   ]
  }
 ],
 "metadata": {
  "kernelspec": {
   "display_name": "Python 3",
   "language": "python",
   "name": "python3"
  },
  "language_info": {
   "codemirror_mode": {
    "name": "ipython",
    "version": 3
   },
   "file_extension": ".py",
   "mimetype": "text/x-python",
   "name": "python",
   "nbconvert_exporter": "python",
   "pygments_lexer": "ipython3",
   "version": "3.5.1"
  }
 },
 "nbformat": 4,
 "nbformat_minor": 0
}
