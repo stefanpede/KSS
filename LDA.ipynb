{
 "cells": [
  {
   "cell_type": "code",
   "execution_count": null,
   "metadata": {
    "collapsed": true
   },
   "outputs": [],
   "source": [
    "%reload_ext autoreload\n",
    "%autoreload 2"
   ]
  },
  {
   "cell_type": "code",
   "execution_count": null,
   "metadata": {
    "collapsed": true
   },
   "outputs": [],
   "source": [
    "import numpy as np\n",
    "import os\n",
    "import pandas as pd\n",
    "import random\n",
    "import scipy\n",
    "\n",
    "from scipy.stats import zscore\n",
    "\n",
    "# interactive\n",
    "from ipywidgets.widgets import interact, IntSlider, FloatSlider\n",
    "from IPython.display import display\n",
    "\n",
    "\n",
    "from sklearn.discriminant_analysis import LinearDiscriminantAnalysis as LDA\n",
    "\n",
    "from multiDatenanalyse import *\n",
    "\n",
    "import matplotlib\n",
    "import matplotlib.pyplot as plt\n",
    "%matplotlib inline\n",
    "\n",
    "mmPfad = '../data/Messmatrix.csv'"
   ]
  },
  {
   "cell_type": "markdown",
   "metadata": {},
   "source": [
    "# Load data"
   ]
  },
  {
   "cell_type": "code",
   "execution_count": null,
   "metadata": {
    "collapsed": false
   },
   "outputs": [],
   "source": [
    "df = load_data()"
   ]
  },
  {
   "cell_type": "code",
   "execution_count": null,
   "metadata": {
    "collapsed": false
   },
   "outputs": [],
   "source": [
    "min_num_walzlos = 300\n",
    "df_all_prod = [extract_product(df, product_id=product_id,\n",
    "                               min_num_walzlos=min_num_walzlos) for product_id in range(26)]"
   ]
  },
  {
   "cell_type": "markdown",
   "metadata": {},
   "source": [
    "# Extract most valuable features"
   ]
  },
  {
   "cell_type": "code",
   "execution_count": null,
   "metadata": {
    "collapsed": false
   },
   "outputs": [],
   "source": [
    "feature_dict = mv_features(df_all_prod)\n",
    "feature_dict"
   ]
  },
  {
   "cell_type": "code",
   "execution_count": null,
   "metadata": {
    "collapsed": false
   },
   "outputs": [],
   "source": [
    "feature_list = list(dict(feature_dict[:10]).keys())\n",
    "feature_list"
   ]
  },
  {
   "cell_type": "markdown",
   "metadata": {},
   "source": [
    "# Params"
   ]
  },
  {
   "cell_type": "markdown",
   "metadata": {},
   "source": [
    "# Extract data according to product"
   ]
  },
  {
   "cell_type": "code",
   "execution_count": null,
   "metadata": {
    "collapsed": false
   },
   "outputs": [],
   "source": [
    "min_num_walzlos = 300\n",
    "df_all_prod = [extract_product(df[list(df.columns[:6]) + feature_list], product_id=product_id,\n",
    "                               min_num_walzlos=min_num_walzlos) for product_id in range(26)]"
   ]
  },
  {
   "cell_type": "code",
   "execution_count": null,
   "metadata": {
    "collapsed": false
   },
   "outputs": [],
   "source": [
    "@interact(index=IntSlider(min=0, max=26, value = 0))\n",
    "def count_per_product(index):\n",
    "    print(\"Anzahl der Walzlose: \"+str(len(pd.unique(df_all_prod[index][\"Header_Walzlos\"]))))"
   ]
  },
  {
   "cell_type": "code",
   "execution_count": null,
   "metadata": {
    "collapsed": false
   },
   "outputs": [],
   "source": [
    "product_id = 11\n",
    "df_prod = df_all_prod[product_id]\n",
    "print(\"Anzahl der Walzlose: \"+str(len(pd.unique(df_prod[\"Header_Walzlos\"]))))"
   ]
  },
  {
   "cell_type": "markdown",
   "metadata": {},
   "source": [
    "# Rearrange data for lda"
   ]
  },
  {
   "cell_type": "code",
   "execution_count": null,
   "metadata": {
    "collapsed": false
   },
   "outputs": [],
   "source": [
    "test_frac = 0.4\n",
    "train_set, test_set = get_lda_data(df_prod, test_frac=test_frac)"
   ]
  },
  {
   "cell_type": "markdown",
   "metadata": {},
   "source": [
    "# Normalize data"
   ]
  },
  {
   "cell_type": "code",
   "execution_count": null,
   "metadata": {
    "collapsed": false
   },
   "outputs": [],
   "source": [
    "train_set['data'] = zscore(train_set['data'])\n",
    "test_set['data'] = zscore(test_set['data'])"
   ]
  },
  {
   "cell_type": "markdown",
   "metadata": {},
   "source": [
    "# How different are train and test set"
   ]
  },
  {
   "cell_type": "code",
   "execution_count": null,
   "metadata": {
    "collapsed": false
   },
   "outputs": [],
   "source": [
    "cov_train = np.cov(train_set['data'].T)\n",
    "cov_test = np.cov(test_set['data'].T)\n",
    "\n",
    "plt.figure(figsize=(15,10))\n",
    "ax1 = plt.subplot(121)\n",
    "ax1.imshow(255*(cov_train-np.max(cov_train))/(np.max(cov_train)-np.min(cov_train)), 'gray')\n",
    "ax1.set_title('cov train')\n",
    "ax1.set_xlabel('features')\n",
    "ax1.set_ylabel('features')\n",
    "\n",
    "ax2 = plt.subplot(122)\n",
    "ax2.imshow(255*(cov_test-np.max(cov_test))/(np.max(cov_test)-np.min(cov_test)), 'gray')\n",
    "ax2.set_title('cov test')\n",
    "ax2.set_xlabel('features')\n",
    "ax2.set_ylabel('features')\n",
    "print('Wie ähnlich sind sich test und train set?')"
   ]
  },
  {
   "cell_type": "markdown",
   "metadata": {},
   "source": [
    "# LDA"
   ]
  },
  {
   "cell_type": "code",
   "execution_count": null,
   "metadata": {
    "collapsed": false
   },
   "outputs": [],
   "source": [
    "# extract data and label\n",
    "X_train, y_train = train_set['data'], train_set['label']\n",
    "X_test, y_test = test_set['data'], test_set['label']\n",
    "\n",
    "# number components for transofrm\n",
    "n_components = 3\n",
    "\n",
    "# LDA object\n",
    "sklearn_LDA = LDA(n_components=n_components, solver='eigen')\n",
    "\n",
    "# fit with train data\n",
    "sklearn_LDA = sklearn_LDA.fit(X_train, y_train)"
   ]
  },
  {
   "cell_type": "markdown",
   "metadata": {},
   "source": [
    "# Explained Variance Ratio"
   ]
  },
  {
   "cell_type": "code",
   "execution_count": null,
   "metadata": {
    "collapsed": false
   },
   "outputs": [],
   "source": [
    "plt.stem(sklearn_LDA.explained_variance_ratio_)\n",
    "plt.xlabel('Index Eigenwert')\n",
    "plt.ylabel('Beitrag zur Varianz')"
   ]
  },
  {
   "cell_type": "markdown",
   "metadata": {},
   "source": [
    "# How good can LDA classify?"
   ]
  },
  {
   "cell_type": "code",
   "execution_count": null,
   "metadata": {
    "collapsed": false
   },
   "outputs": [],
   "source": [
    "train_pred = sklearn_LDA.predict(X_train)\n",
    "print('{0:.2f}% train accuracy'.format(100*np.mean(train_pred == y_train)))\n",
    "\n",
    "test_pred = sklearn_LDA.predict(X_test)\n",
    "print('{0:.2f}% test accuracy'.format(100*np.mean(test_pred == y_test)))"
   ]
  },
  {
   "cell_type": "markdown",
   "metadata": {},
   "source": [
    "# Plot LDA"
   ]
  },
  {
   "cell_type": "code",
   "execution_count": null,
   "metadata": {
    "collapsed": false
   },
   "outputs": [],
   "source": [
    "data = sklearn_LDA.transform(X_train)\n",
    "plot_lda(data, y_train, 'First three LDA components')"
   ]
  },
  {
   "cell_type": "code",
   "execution_count": null,
   "metadata": {
    "collapsed": false
   },
   "outputs": [],
   "source": [
    "%matplotlib notebook\n",
    "X_lda = data\n",
    "y = y_train\n",
    "coef_ = sklearn_LDA.coef_\n",
    "eigvecs = sklearn_LDA.scalings_\n",
    "\n",
    "labels = feature_list\n",
    " \n",
    "xs = X_lda[:, 0]\n",
    "ys = X_lda[:, 1]\n",
    "zs = X_lda[:, 2]\n",
    "\n",
    "scalex = 1.0/(xs.max()- xs.min())\n",
    "scaley = 1.0/(ys.max()- ys.min())\n",
    "scalez = 1.0/(zs.max()- zs.min())\n",
    "\n",
    "my_cmap = plt.cm.get_cmap('rainbow') # or any other one\n",
    "norm = matplotlib.colors.Normalize(min_val, max_val) # the color maps work for [0, 1]\n",
    "\n",
    "\n",
    "fig = plt.figure(figsize=(10,10))\n",
    "ax = fig.add_subplot(111, projection='3d')\n",
    "for feat in range(coef_.shape[1]):\n",
    "    color_i = my_cmap(norm(feat)) # returns an rgba value\n",
    "    \n",
    "    vector=np.array([0,0,0, eigvecs[0, feat], eigvecs[1, feat], eigvecs[2, feat]])\n",
    "    #vlength = np.linalg.norm((vector[3], vector[4], vector[5]))\n",
    "    ax.quiver(vector[0],vector[1],vector[2],vector[3],vector[4],vector[5],\n",
    "            pivot='tail', color=color_i)#length=vlength,arrow_length_ratio=0.3/vlength)\n",
    "    ax.text(eigvecs[0, feat]* 1.15,\n",
    "             eigvecs[1, feat] * 1.15,\n",
    "             eigvecs[2, feat] * 1.15,\n",
    "             labels[feat], color=color_i, ha='center', va='center')\n",
    "\n",
    "for color, label in enumerate(np.unique(y)):\n",
    "    min_val = 0\n",
    "    max_val = len(np.unique(y))\n",
    "\n",
    "    my_cmap = plt.cm.get_cmap('rainbow') # or any other one\n",
    "    norm = matplotlib.colors.Normalize(min_val, max_val) # the color maps work for [0, 1]\n",
    "\n",
    "    color_i = my_cmap(norm(color)) # returns an rgba value\n",
    "\n",
    "    #ax.scatter(X_lda[:,0][y==label]*scalex,\n",
    "    #           X_lda[:,1][y==label]*scaley,\n",
    "    #           X_lda[:,2][y==label]*scalez, marker='*', color=color_i,\n",
    "    #            label=label, alpha=1)\n",
    "\n",
    "ax.set_xlim((-2,2))\n",
    "ax.set_ylim((-2,2))\n",
    "ax.set_zlim((-1,1))    \n",
    "    \n",
    "ax.set_xlabel('LDA_1')\n",
    "ax.set_ylabel('LDA_2')\n",
    "ax.set_zlabel('LDA_3')"
   ]
  },
  {
   "cell_type": "markdown",
   "metadata": {},
   "source": [
    "# Interpret LDA"
   ]
  },
  {
   "cell_type": "code",
   "execution_count": null,
   "metadata": {
    "collapsed": false
   },
   "outputs": [],
   "source": [
    "eigvecs = sklearn_LDA.scalings_\n",
    "plt.figure(figsize=(20,5))\n",
    "plt.imshow(np.abs(eigvecs), 'gray')\n",
    "_ = plt.axis('off')"
   ]
  },
  {
   "cell_type": "code",
   "execution_count": null,
   "metadata": {
    "collapsed": false
   },
   "outputs": [],
   "source": [
    "print('Most valuable component in most valuable EV: {}'.format(df[df.columns[6:]].columns[np.argmax(np.abs(eigvecs[:, 0]))]))\n",
    "print('Most valuable component in second valuable EV: {}'.format(df[df.columns[6:]].columns[np.argmax(np.abs(eigvecs[:, 1]))]))"
   ]
  },
  {
   "cell_type": "code",
   "execution_count": null,
   "metadata": {
    "collapsed": false
   },
   "outputs": [],
   "source": [
    "plt.figure(figsize=(25,5))\n",
    "\n",
    "for index in range(3):\n",
    "    ax = plt.subplot(1,3,index+1)\n",
    "    ax.stem(eigvecs[:, index])\n",
    "    ax.set_title('Eigenvector {}'.format(index))\n",
    "    ax.set_xlabel('Merkmalsindex')"
   ]
  },
  {
   "cell_type": "code",
   "execution_count": null,
   "metadata": {
    "collapsed": true
   },
   "outputs": [],
   "source": []
  }
 ],
 "metadata": {
  "kernelspec": {
   "display_name": "Python 3",
   "language": "python",
   "name": "python3"
  },
  "language_info": {
   "codemirror_mode": {
    "name": "ipython",
    "version": 3
   },
   "file_extension": ".py",
   "mimetype": "text/x-python",
   "name": "python",
   "nbconvert_exporter": "python",
   "pygments_lexer": "ipython3",
   "version": "3.5.1"
  }
 },
 "nbformat": 4,
 "nbformat_minor": 0
}
