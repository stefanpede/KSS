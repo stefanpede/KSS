{
 "cells": [
  {
   "cell_type": "markdown",
   "metadata": {},
   "source": [
    "# Lineare Diskriminanzanalyse\n",
    "## Araz, Hasenklever, Pede"
   ]
  },
  {
   "cell_type": "markdown",
   "metadata": {},
   "source": [
    "Laden von Bibliotheken"
   ]
  },
  {
   "cell_type": "code",
   "execution_count": null,
   "metadata": {
    "collapsed": true
   },
   "outputs": [],
   "source": [
    "%reload_ext autoreload\n",
    "%autoreload 2"
   ]
  },
  {
   "cell_type": "code",
   "execution_count": null,
   "metadata": {
    "collapsed": true
   },
   "outputs": [],
   "source": [
    "import numpy as np\n",
    "import os\n",
    "import pandas as pd\n",
    "import random\n",
    "import scipy\n",
    "\n",
    "from scipy.stats import zscore\n",
    "\n",
    "# interactive\n",
    "from ipywidgets.widgets import interact, IntSlider, FloatSlider\n",
    "from IPython.display import display\n",
    "\n",
    "\n",
    "from sklearn.discriminant_analysis import LinearDiscriminantAnalysis as LDA\n",
    "\n",
    "from multiDatenanalyse import *\n",
    "\n",
    "import matplotlib\n",
    "import matplotlib.pyplot as plt\n",
    "%matplotlib inline\n",
    "\n",
    "mmPfad = r\"D:\\C\\Uni\\Master\\KSS\\MV_Analyse\\Messmatrix.csv\"#'../data/Messmatrix.csv'"
   ]
  },
  {
   "cell_type": "markdown",
   "metadata": {},
   "source": [
    "## Laden der Merkmalsmatrix\n",
    "### und Vorverarbeitung von Zeilen und Spalten nach Anzahl von NaNs und stark korrelierenden Merkmalen"
   ]
  },
  {
   "cell_type": "code",
   "execution_count": null,
   "metadata": {
    "collapsed": false
   },
   "outputs": [],
   "source": [
    "df = load_data(mmPfad)"
   ]
  },
  {
   "cell_type": "markdown",
   "metadata": {},
   "source": [
    "## Produktweise Sortierung der Daten"
   ]
  },
  {
   "cell_type": "markdown",
   "metadata": {},
   "source": [
    "minimale Anzahl der Rohre je Walzlos festlegen\n",
    "und Daten nach Produkten sortieren"
   ]
  },
  {
   "cell_type": "code",
   "execution_count": null,
   "metadata": {
    "collapsed": false
   },
   "outputs": [],
   "source": [
    "min_num_walzlos = 300\n",
    "df_all_prod = [extract_product(df, product_id=product_id, min_num_walzlos=min_num_walzlos) for product_id in range(26)]"
   ]
  },
  {
   "cell_type": "markdown",
   "metadata": {},
   "source": [
    "Auswahl des Produtes durch Schieberegler implementieren\n",
    "\n",
    "TODO Produkteigenschaften (LG, AD, WD) ausgeben"
   ]
  },
  {
   "cell_type": "code",
   "execution_count": null,
   "metadata": {
    "collapsed": false
   },
   "outputs": [],
   "source": [
    "@interact(index=IntSlider(min=0, max=26, value = 11))\n",
    "def count_per_product(index):\n",
    "    print(\"Anzahl der Walzlose: \"+str(len(pd.unique(df_all_prod[index][\"Header_Walzlos\"]))))"
   ]
  },
  {
   "cell_type": "markdown",
   "metadata": {},
   "source": [
    "Auswahl eines Produktes und Ausgabe der Anzahl von Walzlosen mit \"genügend\" Rohren"
   ]
  },
  {
   "cell_type": "code",
   "execution_count": null,
   "metadata": {
    "collapsed": false
   },
   "outputs": [],
   "source": [
    "product_id = 11\n",
    "df_prod = df_all_prod[product_id]\n",
    "print(\"Anzahl der Walzlose: \"+str(len(pd.unique(df_prod[\"Header_Walzlos\"]))))"
   ]
  },
  {
   "cell_type": "markdown",
   "metadata": {},
   "source": [
    "Verbleibende Merkmale:"
   ]
  },
  {
   "cell_type": "code",
   "execution_count": null,
   "metadata": {
    "collapsed": false
   },
   "outputs": [],
   "source": [
    "df_prod.columns"
   ]
  },
  {
   "cell_type": "markdown",
   "metadata": {},
   "source": [
    "## Aufteilen der Daten in Test- und Trainingsdaten"
   ]
  },
  {
   "cell_type": "code",
   "execution_count": null,
   "metadata": {
    "collapsed": false
   },
   "outputs": [],
   "source": [
    "test_frac = 0.4\n",
    "train_set, test_set = get_lda_data(df_prod, test_frac=test_frac)"
   ]
  },
  {
   "cell_type": "markdown",
   "metadata": {},
   "source": [
    "## Normalisierung der Daten"
   ]
  },
  {
   "cell_type": "code",
   "execution_count": null,
   "metadata": {
    "collapsed": false
   },
   "outputs": [],
   "source": [
    "train_set['data'] = zscore(train_set['data'])\n",
    "test_set['data'] = zscore(test_set['data'])"
   ]
  },
  {
   "cell_type": "markdown",
   "metadata": {},
   "source": [
    "## Kovarianzmatrix von Trainings- und Testdaten"
   ]
  },
  {
   "cell_type": "code",
   "execution_count": null,
   "metadata": {
    "collapsed": false
   },
   "outputs": [],
   "source": [
    "cov_train = np.cov(train_set['data'].T)\n",
    "cov_test = np.cov(test_set['data'].T)\n",
    "\n",
    "plt.figure(figsize=(15,10))\n",
    "ax1 = plt.subplot(121)\n",
    "ax1.imshow(255*(cov_train-np.max(cov_train))/(np.max(cov_train)-np.min(cov_train)), 'gray')\n",
    "ax1.set_title('Kovarianz der Trainingsdaten')\n",
    "ax1.set_xlabel('Merkmal')\n",
    "ax1.set_ylabel('Merkmal')\n",
    "\n",
    "ax2 = plt.subplot(122)\n",
    "ax2.imshow(255*(cov_test-np.max(cov_test))/(np.max(cov_test)-np.min(cov_test)), 'gray')\n",
    "ax2.set_title('Kovarianz der Testdaten')\n",
    "ax2.set_xlabel('Merkmal')\n",
    "ax2.set_ylabel('Merkmal')\n",
    "print('Wie selbstähnlich sind die Test- und Trainingsdaten?')"
   ]
  },
  {
   "cell_type": "markdown",
   "metadata": {},
   "source": [
    "## Dürchführen der LDA auf die Trainingsdaten"
   ]
  },
  {
   "cell_type": "code",
   "execution_count": null,
   "metadata": {
    "collapsed": false
   },
   "outputs": [],
   "source": [
    "# extract data and label\n",
    "X_train, y_train = train_set['data'], train_set['label']\n",
    "X_test, y_test = test_set['data'], test_set['label']\n",
    "\n",
    "# number components for transform\n",
    "n_components = 3\n",
    "\n",
    "# LDA object\n",
    "sklearn_LDA = LDA(n_components=n_components, solver='eigen')\n",
    "\n",
    "# fit with train data\n",
    "sklearn_LDA = sklearn_LDA.fit(X_train, y_train)"
   ]
  },
  {
   "cell_type": "markdown",
   "metadata": {},
   "source": [
    "## Darstellung der Eigenwerte"
   ]
  },
  {
   "cell_type": "code",
   "execution_count": null,
   "metadata": {
    "collapsed": false
   },
   "outputs": [],
   "source": [
    "plt.stem(sklearn_LDA.explained_variance_ratio_)\n",
    "plt.xlabel('Index Eigenwert')\n",
    "plt.ylabel('Beitrag zur Varianz')\n",
    "plt.title(\"Eigenwerte\")"
   ]
  },
  {
   "cell_type": "markdown",
   "metadata": {},
   "source": [
    "## Testen der Klassifikation"
   ]
  },
  {
   "cell_type": "code",
   "execution_count": null,
   "metadata": {
    "collapsed": false
   },
   "outputs": [],
   "source": [
    "train_pred = sklearn_LDA.predict(X_train)\n",
    "print('{0:.2f}% Genauigkeit bei der Klassifikation der Trainingsdaten'.format(100*np.mean(train_pred == y_train)))\n",
    "\n",
    "test_pred = sklearn_LDA.predict(X_test)\n",
    "print('{0:.2f}% Genauigkeit bei der Klassifikation der Testdaten'.format(100*np.mean(test_pred == y_test)))"
   ]
  },
  {
   "cell_type": "markdown",
   "metadata": {},
   "source": [
    "## Darstellung der transformierten Trainingsdaten und Klassenzugehörigkeit"
   ]
  },
  {
   "cell_type": "code",
   "execution_count": null,
   "metadata": {
    "collapsed": false
   },
   "outputs": [],
   "source": [
    "data = sklearn_LDA.transform(X_train)\n",
    "plot_lda(data, y_train, 'Transformierte Trainingsdaten')"
   ]
  },
  {
   "cell_type": "markdown",
   "metadata": {},
   "source": [
    "## Interpretation der LDA-Ergebnisse"
   ]
  },
  {
   "cell_type": "markdown",
   "metadata": {},
   "source": [
    "### Die Helligkeit der Punkte bildet die Größe des Beitrags des Merkmals im jeweiligen Eigenvektor ab. "
   ]
  },
  {
   "cell_type": "code",
   "execution_count": null,
   "metadata": {
    "collapsed": false
   },
   "outputs": [],
   "source": [
    "eigvecs = sklearn_LDA.scalings_\n",
    "plt.figure(figsize=(20,5))\n",
    "plt.imshow(np.abs(eigvecs), 'gray')\n",
    "#_ = plt.axis('off')\n",
    "plt.title(\"Eigenvektoren\")"
   ]
  },
  {
   "cell_type": "code",
   "execution_count": null,
   "metadata": {
    "collapsed": false
   },
   "outputs": [],
   "source": [
    "print('Einflussreichstes Merkmal im ersten EV: {}'.format(df[df.columns[6:]].columns[np.argmax(np.abs(eigvecs[:, 0]))]))\n",
    "print('Einflussreichstes Merkmal im zweiten EV: {}'.format(df[df.columns[6:]].columns[np.argmax(np.abs(eigvecs[:, 1]))]))"
   ]
  },
  {
   "cell_type": "markdown",
   "metadata": {},
   "source": [
    "## Darstellung der Eigenvektoren"
   ]
  },
  {
   "cell_type": "code",
   "execution_count": null,
   "metadata": {
    "collapsed": false
   },
   "outputs": [],
   "source": [
    "plt.figure(figsize=(20,10))\n",
    "\n",
    "for index in range(3):\n",
    "    ax = plt.subplot(1,3,index+1)\n",
    "    ax.stem(eigvecs[:, index])\n",
    "    ax.set_title('Eigenvektor {}'.format(index))\n",
    "    ax.set_xlabel('Merkmalsindex')\n",
    "    ax.set_ylabel('Beitrag in Eigenvektor')"
   ]
  }
 ],
 "metadata": {
  "anaconda-cloud": {},
  "kernelspec": {
   "display_name": "Python [default]",
   "language": "python",
   "name": "python3"
  },
  "language_info": {
   "codemirror_mode": {
    "name": "ipython",
    "version": 3
   },
   "file_extension": ".py",
   "mimetype": "text/x-python",
   "name": "python",
   "nbconvert_exporter": "python",
   "pygments_lexer": "ipython3",
   "version": "3.5.2"
  }
 },
 "nbformat": 4,
 "nbformat_minor": 0
}
