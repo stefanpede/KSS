{
 "cells": [
  {
   "cell_type": "markdown",
   "metadata": {},
   "source": [
    "## Multivaraite Datenanalyse\n",
    "# Lineare Diskriminanzanalyse (LDA)\n",
    "### Michael Araz, Daniel Hasenklever, Stefan Pede"
   ]
  },
  {
   "cell_type": "code",
   "execution_count": null,
   "metadata": {
    "collapsed": true
   },
   "outputs": [],
   "source": [
    "%reload_ext autoreload\n",
    "%autoreload 2"
   ]
  },
  {
   "cell_type": "code",
   "execution_count": null,
   "metadata": {
    "collapsed": true
   },
   "outputs": [],
   "source": [
    "import numpy as np\n",
    "import os\n",
    "import pandas as pd\n",
    "import random\n",
    "import scipy\n",
    "\n",
    "# interactive\n",
    "from ipywidgets.widgets import interact, IntSlider, FloatSlider\n",
    "from IPython.display import display\n",
    "\n",
    "from sklearn.preprocessing import LabelEncoder\n",
    "from sklearn.discriminant_analysis import LinearDiscriminantAnalysis as LDA\n",
    "\n",
    "from multiDatenanalyse import *\n",
    "\n",
    "import matplotlib\n",
    "import matplotlib.pyplot as plt\n",
    "%matplotlib inline\n",
    "\n",
    "mmPfad = '../data/Messmatrix.csv'"
   ]
  },
  {
   "cell_type": "markdown",
   "metadata": {},
   "source": [
    "### Eigenschaften der Messmatrix "
   ]
  },
  {
   "cell_type": "code",
   "execution_count": null,
   "metadata": {
    "collapsed": false
   },
   "outputs": [],
   "source": [
    "df = pd.read_csv(mmPfad)\n",
    "print(\"Anzahl der Kennwerte: \"+str(df.shape[1]))\n",
    "print(\"Anzahl der vermessenen Rohre: \"+str(df.shape[0]))\n",
    "print(\"Anzahl der gefahrenen Produkte: \"+str(df.groupby([\"Header_Leitguete\",\"Header_Soll_AD\",\"Header_Soll_WD\"])[\"Header_Pseudonummer\"].agg([\"count\"]).shape[0]))\n",
    "print(\"Anzahl der Walzlose: \"+str(len(pd.unique(df[\"Header_Walzlos\"]))))"
   ]
  },
  {
   "cell_type": "markdown",
   "metadata": {},
   "source": [
    "### Produkte"
   ]
  },
  {
   "cell_type": "code",
   "execution_count": null,
   "metadata": {
    "collapsed": false
   },
   "outputs": [],
   "source": [
    "df.groupby([\"Header_Leitguete\",\"Header_Soll_AD\",\"Header_Soll_WD\"])[\"Header_Pseudonummer\"].agg([\"count\"])"
   ]
  },
  {
   "cell_type": "markdown",
   "metadata": {},
   "source": [
    "### Vorverarbeiten der Kennwerte"
   ]
  },
  {
   "cell_type": "code",
   "execution_count": null,
   "metadata": {
    "collapsed": false
   },
   "outputs": [],
   "source": [
    "dfVV2 = preprocess(df)\n",
    "\n",
    "# Ausgabe\n",
    "print(\"Daten nach Vorverarbeitung:\")\n",
    "print(\"Anzahl der Kennwerte: \"+str(dfVV2.shape[1]))\n",
    "print(\"Anzahl der vermessenen Rohre: \"+str(dfVV2.shape[0]))\n",
    "print(\"Anzahl der gefahrenen Produkte: \"+str(dfVV2.groupby([\"Header_Leitguete\",\"Header_Soll_AD\",\"Header_Soll_WD\"])[\"Header_Pseudonummer\"].agg([\"count\"]).shape[0]))\n",
    "print(\"Anzahl der Walzlose: \"+str(len(pd.unique(dfVV2[\"Header_Walzlos\"]))))\n",
    "print(\"\\nAuszug:\")\n",
    "dfVV2.head()"
   ]
  },
  {
   "cell_type": "code",
   "execution_count": null,
   "metadata": {
    "collapsed": false
   },
   "outputs": [],
   "source": [
    "dfNoCor, _ = dropCorrelatedColumns((dfVV2[dfVV2.columns[6:]], dfVV2[dfVV2.columns[6:]]), 0.8)\n",
    "dfVV2 = pd.concat((dfVV2[dfVV2.columns[:6]], dfNoCor), axis=1)\n",
    "dfVV2.head()"
   ]
  },
  {
   "cell_type": "markdown",
   "metadata": {},
   "source": [
    "# Regard only one product"
   ]
  },
  {
   "cell_type": "code",
   "execution_count": null,
   "metadata": {
    "collapsed": false
   },
   "outputs": [],
   "source": [
    "@interact(index=IntSlider(min=0, max=26, value = 0))\n",
    "def count_per_product(index):\n",
    "    groupby_list, product = get_product(dfVV2, index)\n",
    "    df = dfVV2.query(\" & \".join([\"({} == {})\".format(name, param) for name, param in zip(groupby_list, product)]))\n",
    "    \n",
    "    df_walzlos = df.groupby([\"Header_Walzlos\"])[\"Header_Pseudonummer\"].agg([\"count\"])\n",
    "    display(df_walzlos.T)"
   ]
  },
  {
   "cell_type": "code",
   "execution_count": null,
   "metadata": {
    "collapsed": false,
    "scrolled": false
   },
   "outputs": [],
   "source": [
    "groupby_list, product = get_product(dfVV2, 3)\n",
    "df = dfVV2.query(\" & \".join([\"({} == {})\".format(name, param) for name, param in zip(groupby_list, product)]))\n",
    "\n",
    "df_walzlos = df.groupby([\"Header_Walzlos\"])[\"Header_Pseudonummer\"].agg([\"count\"])\n",
    "b = np.asarray(df_walzlos)\n",
    "plt.figure(figsize=(15,10))\n",
    "_ = plt.hist(b, bins=20)"
   ]
  },
  {
   "cell_type": "code",
   "execution_count": null,
   "metadata": {
    "collapsed": false
   },
   "outputs": [],
   "source": [
    "min_num_walzlos = 100\n",
    "walzlose_to_drop = df_walzlos[(df_walzlos['count'] < min_num_walzlos)].index.tolist()\n",
    "\n",
    "for walzlos in walzlose_to_drop:\n",
    "    df.drop(df[df[\"Header_Walzlos\"] == walzlos].index, inplace=True)\n",
    "    \n",
    "label_encoder = LabelEncoder().fit(df[\"Header_Walzlos\"])"
   ]
  },
  {
   "cell_type": "code",
   "execution_count": null,
   "metadata": {
    "collapsed": false
   },
   "outputs": [],
   "source": [
    "train_set, test_set = get_data(df, label_encoder)"
   ]
  },
  {
   "cell_type": "markdown",
   "metadata": {},
   "source": [
    "# Normalize data"
   ]
  },
  {
   "cell_type": "code",
   "execution_count": null,
   "metadata": {
    "collapsed": false
   },
   "outputs": [],
   "source": [
    "train_set['data'], train_mean, train_std = zscore(train_set['data'])\n",
    "test_set['data'], test_mean, test_mean = zscore(test_set['data'], train_mean, train_std)"
   ]
  },
  {
   "cell_type": "markdown",
   "metadata": {},
   "source": [
    "# How different are train and test set?"
   ]
  },
  {
   "cell_type": "code",
   "execution_count": null,
   "metadata": {
    "collapsed": false
   },
   "outputs": [],
   "source": [
    "cov_train = np.cov(train_set['data'].T)\n",
    "cov_test = np.cov(test_set['data'].T)\n",
    "\n",
    "plt.figure(figsize=(15,10))\n",
    "ax1 = plt.subplot(121)\n",
    "ax1.imshow(225*(cov_train-np.max(cov_train))/(np.max(cov_train)-np.min(cov_train)), 'gray')\n",
    "ax1.set_title('cov train')\n",
    "ax1.set_xlabel('features')\n",
    "ax1.set_ylabel('features')\n",
    "\n",
    "ax2 = plt.subplot(122)\n",
    "ax2.imshow(225*(cov_test-np.max(cov_test))/(np.max(cov_test)-np.min(cov_test)), 'gray')\n",
    "ax2.set_title('cov test')\n",
    "ax2.set_xlabel('features')\n",
    "ax2.set_ylabel('features')\n",
    "print('Wie ähnlich sind sich test und train set?')"
   ]
  },
  {
   "cell_type": "markdown",
   "metadata": {},
   "source": [
    "# LDA"
   ]
  },
  {
   "cell_type": "code",
   "execution_count": null,
   "metadata": {
    "collapsed": true
   },
   "outputs": [],
   "source": [
    "X_train, y_train = train_set['data'][:, :], train_set['label']\n",
    "X_test, y_test = test_set['data'][:, :], test_set['label']"
   ]
  },
  {
   "cell_type": "code",
   "execution_count": null,
   "metadata": {
    "collapsed": false
   },
   "outputs": [],
   "source": [
    "n_components = 2\n",
    "\n",
    "sklearn_LDA = LDA(n_components=n_components, solver='eigen')\n",
    "sklearn_LDA = sklearn_LDA.fit(X_train, y_train)"
   ]
  },
  {
   "cell_type": "code",
   "execution_count": null,
   "metadata": {
    "collapsed": false
   },
   "outputs": [],
   "source": [
    "plt.stem(sklearn_LDA.explained_variance_ratio_)"
   ]
  },
  {
   "cell_type": "code",
   "execution_count": null,
   "metadata": {
    "collapsed": false
   },
   "outputs": [],
   "source": [
    "train_pred = sklearn_LDA.predict(X_train)\n",
    "print('{0:.6f}% train accuracy'.format(100*np.mean(train_pred == y_train)))\n",
    "\n",
    "test_pred = sklearn_LDA.predict(X_test)\n",
    "print('{0:.6f}% test accuracy'.format(100*np.mean(test_pred == y_test)))"
   ]
  },
  {
   "cell_type": "code",
   "execution_count": null,
   "metadata": {
    "collapsed": false
   },
   "outputs": [],
   "source": [
    "data = sklearn_LDA.transform(X_train)"
   ]
  },
  {
   "cell_type": "code",
   "execution_count": null,
   "metadata": {
    "collapsed": false
   },
   "outputs": [],
   "source": [
    "data.shape"
   ]
  },
  {
   "cell_type": "code",
   "execution_count": null,
   "metadata": {
    "collapsed": false
   },
   "outputs": [],
   "source": [
    "def plot_lda(X_lda, y, title, ax=None):\n",
    "    if ax:\n",
    "        ax = ax\n",
    "    else:\n",
    "        plt.figure(figsize=(10,5))\n",
    "        ax = plt.subplot(111)\n",
    "        \n",
    "    for color, label in enumerate(np.unique(y)):\n",
    "        min_val = 0\n",
    "        max_val = 14\n",
    "\n",
    "        my_cmap = plt.cm.get_cmap('rainbow') # or any other one\n",
    "        norm = matplotlib.colors.Normalize(min_val, max_val) # the color maps work for [0, 1]\n",
    "\n",
    "        color_i = my_cmap(norm(color)) # returns an rgba value\n",
    "\n",
    "        ax.scatter(X_lda[:,0][y==label], X_lda[:,1][y==label], marker='*', color=color_i,\n",
    "                    label=label, alpha=1)\n",
    "        \n",
    "    ax.set_xlabel('LDA_1')\n",
    "    ax.set_ylabel('LDA_2')\n",
    "    ax.set_title(title)\n",
    "    \n",
    "    ax.legend()\n",
    "    ax.grid()                   "
   ]
  },
  {
   "cell_type": "code",
   "execution_count": null,
   "metadata": {
    "collapsed": false
   },
   "outputs": [],
   "source": [
    "plot_lda(data, y_train, 'bla')"
   ]
  },
  {
   "cell_type": "code",
   "execution_count": null,
   "metadata": {
    "collapsed": false
   },
   "outputs": [],
   "source": [
    "eigvecs = sklearn_LDA.scalings_"
   ]
  },
  {
   "cell_type": "code",
   "execution_count": null,
   "metadata": {
    "collapsed": false
   },
   "outputs": [],
   "source": [
    "plt.imshow(np.abs(eigvecs), 'gray')"
   ]
  },
  {
   "cell_type": "code",
   "execution_count": null,
   "metadata": {
    "collapsed": false
   },
   "outputs": [],
   "source": [
    "df[df.columns[6:]].columns[3]"
   ]
  },
  {
   "cell_type": "code",
   "execution_count": null,
   "metadata": {
    "collapsed": false
   },
   "outputs": [],
   "source": [
    "eigvecs.shape"
   ]
  },
  {
   "cell_type": "code",
   "execution_count": null,
   "metadata": {
    "collapsed": false
   },
   "outputs": [],
   "source": [
    "np.argmax(np.abs(eigvecs[:, 1]))"
   ]
  },
  {
   "cell_type": "code",
   "execution_count": null,
   "metadata": {
    "collapsed": false
   },
   "outputs": [],
   "source": [
    "np.argmax(np.abs(eigvecs[:, 0]))"
   ]
  }
 ],
 "metadata": {
  "anaconda-cloud": {},
  "kernelspec": {
   "display_name": "Python 3",
   "language": "python",
   "name": "python3"
  },
  "language_info": {
   "codemirror_mode": {
    "name": "ipython",
    "version": 3
   },
   "file_extension": ".py",
   "mimetype": "text/x-python",
   "name": "python",
   "nbconvert_exporter": "python",
   "pygments_lexer": "ipython3",
   "version": "3.5.1"
  }
 },
 "nbformat": 4,
 "nbformat_minor": 1
}
